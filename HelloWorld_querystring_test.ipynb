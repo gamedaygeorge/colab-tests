{
  "nbformat": 4,
  "nbformat_minor": 0,
  "metadata": {
    "colab": {
      "name": "HelloWorld_querystring_test.ipynb",
      "provenance": [],
      "collapsed_sections": []
    },
    "kernelspec": {
      "name": "python3",
      "display_name": "Python 3"
    },
    "language_info": {
      "name": "python"
    }
  },
  "cells": [
    {
      "cell_type": "code",
      "metadata": {
        "id": "yKPvb2v0fJRc"
      },
      "source": [
        "import ipyparams"
      ],
      "execution_count": 16,
      "outputs": []
    },
    {
      "cell_type": "code",
      "metadata": {
        "id": "JeFoOae-gzGF",
        "colab": {
          "base_uri": "https://localhost:8080/"
        },
        "outputId": "7be157a5-bb92-4d22-83d3-c2a1f84b9682"
      },
      "source": [
        "ipyparams.params\n"
      ],
      "execution_count": 21,
      "outputs": [
        {
          "output_type": "execute_result",
          "data": {
            "text/plain": [
              "defaultdict(<function ipyparams.<lambda>>,\n",
              "            {'test_param': None, 'test_param1': None})"
            ]
          },
          "metadata": {
            "tags": []
          },
          "execution_count": 21
        }
      ]
    },
    {
      "cell_type": "code",
      "metadata": {
        "id": "BuJYh5Zcg3S0"
      },
      "source": [
        ""
      ],
      "execution_count": null,
      "outputs": []
    }
  ]
}