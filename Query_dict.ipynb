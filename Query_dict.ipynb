{
  "nbformat": 4,
  "nbformat_minor": 0,
  "metadata": {
    "colab": {
      "name": "Query dict.ipynb",
      "provenance": [],
      "collapsed_sections": []
    },
    "kernelspec": {
      "name": "python3",
      "display_name": "Python 3"
    },
    "language_info": {
      "name": "python"
    }
  },
  "cells": [
    {
      "cell_type": "code",
      "metadata": {
        "colab": {
          "base_uri": "https://localhost:8080/"
        },
        "id": "DpGaZQLiggQc",
        "outputId": "773691a0-218a-4445-b880-3fb903b70e8f"
      },
      "source": [
        "#referenc code for testing\n",
        "try:\n",
        "    import urlparse\n",
        "    from urllib import urlencode\n",
        "except: # For Python 3\n",
        "    import urllib.parse as urlparse\n",
        "    from urllib.parse import urlencode\n",
        "\n",
        "url = \"http://stackoverflow.com/search?q=question\"\n",
        "params = {'lang':'en','tag':'python'}\n",
        "\n",
        "url_parts = list(urlparse.urlparse(url))\n",
        "query = dict(urlparse.parse_qsl(url_parts[4]))\n",
        "query.update(params)\n",
        "\n",
        "url_parts[4] = urlencode(query)\n",
        "\n",
        "print(urlparse.urlunparse(url_parts))"
      ],
      "execution_count": 13,
      "outputs": [
        {
          "output_type": "stream",
          "text": [
            "http://stackoverflow.com/search?q=question&lang=en&tag=python\n"
          ],
          "name": "stdout"
        }
      ]
    },
    {
      "cell_type": "code",
      "metadata": {
        "colab": {
          "base_uri": "https://localhost:8080/"
        },
        "id": "fh_bnXZEgjLH",
        "outputId": "a6b4897e-edc7-4e3f-ab7d-0f43d77fbf89"
      },
      "source": [
        "url = 'https://colab.research.google.com/github/ceos-seo/odc-colab/blob/master/notebooks/Colab_Cloud_Statistics_L8.ipynb?lat_long=-33.56941566605891,150.72866592167537'\n",
        "\n",
        "try:\n",
        "    from urllib.parse import urlparse, parse_qs\n",
        "except ImportError:\n",
        "    # still using Python 2? time to move up\n",
        "    from urlparse import urlparse, parse_qs\n",
        "\n",
        "parts = urlparse(url)\n",
        "# print(parts)\n",
        "query_dict = parse_qs(parts.query)\n",
        "# print(query_dict)\n",
        "print(query_dict['lat_long'][0])"
      ],
      "execution_count": 14,
      "outputs": [
        {
          "output_type": "stream",
          "text": [
            "-33.56941566605891,150.72866592167537\n"
          ],
          "name": "stdout"
        }
      ]
    },
    {
      "cell_type": "code",
      "metadata": {
        "colab": {
          "base_uri": "https://localhost:8080/"
        },
        "id": "uz6pf4pdgm2j",
        "outputId": "daf24182-4088-4cd9-c68b-f9733bdfc094"
      },
      "source": [
        "url = 'https://colab.research.google.com/github/ceos-seo/odc-colab/blob/master/notebooks/Colab_Cloud_Statistics_L8.ipynb?lat_long=-33.56941566605891,150.72866592167537&start_date=20210315&end_date=20210410'\n",
        "\n",
        "try:\n",
        "    from urllib.parse import urlparse, parse_qs\n",
        "except ImportError:\n",
        "    from urlparse import urlparse, parse_qs\n",
        "\n",
        "parts = urlparse(url)\n",
        "# print(parts)\n",
        "query_dict = parse_qs(parts.query)\n",
        "print(query_dict)\n",
        "print(query_dict['lat_long'] )\n",
        "print(query_dict.values )\n",
        "for k in query_dict:\n",
        "  print(k, query_dict[k])"
      ],
      "execution_count": 15,
      "outputs": [
        {
          "output_type": "stream",
          "text": [
            "{'lat_long': ['-33.56941566605891,150.72866592167537'], 'start_date': ['20210315'], 'end_date': ['20210410']}\n",
            "['-33.56941566605891,150.72866592167537']\n",
            "<built-in method values of dict object at 0x7efd645592d0>\n",
            "lat_long ['-33.56941566605891,150.72866592167537']\n",
            "start_date ['20210315']\n",
            "end_date ['20210410']\n"
          ],
          "name": "stdout"
        }
      ]
    },
    {
      "cell_type": "code",
      "metadata": {
        "colab": {
          "base_uri": "https://localhost:8080/"
        },
        "id": "AsC8vXd2j5u7",
        "outputId": "083c493d-e510-4d94-dfe6-2aa4502da012"
      },
      "source": [
        "try:\n",
        "    import urlparse\n",
        "    from urllib import urlencode\n",
        "except: # For Python 3\n",
        "    import urllib.parse as urlparse\n",
        "    from urllib.parse import urlencode\n",
        "\n",
        "url = \"https://colab.research.google.com/github/ceos-seo/odc-colab/blob/master/notebooks/Colab_Cloud_Statistics_L8.ipynb\"\n",
        "params = {'?''lat_long':'-33.56941566605891,150.72866592167537'}\n",
        "\n",
        "\n",
        "url_parts = list(urlparse.urlparse(url))\n",
        "print(url_parts)\n",
        "query = dict(urlparse.parse_qsl(url_parts[4]))\n",
        "query.update(params)\n",
        "print(query)\n",
        "\n",
        "url_parts[4] = urlencode(query)\n",
        "print(urlparse.urlunparse(url_parts))"
      ],
      "execution_count": 16,
      "outputs": [
        {
          "output_type": "stream",
          "text": [
            "['https', 'colab.research.google.com', '/github/ceos-seo/odc-colab/blob/master/notebooks/Colab_Cloud_Statistics_L8.ipynb', '', '', '']\n",
            "{'?lat_long': '-33.56941566605891,150.72866592167537'}\n",
            "https://colab.research.google.com/github/ceos-seo/odc-colab/blob/master/notebooks/Colab_Cloud_Statistics_L8.ipynb?%3Flat_long=-33.56941566605891%2C150.72866592167537\n"
          ],
          "name": "stdout"
        }
      ]
    },
    {
      "cell_type": "code",
      "metadata": {
        "colab": {
          "base_uri": "https://localhost:8080/"
        },
        "id": "CcEXOeAnv0yL",
        "outputId": "76dad36a-2d38-48c6-b5e4-6f21103bca25"
      },
      "source": [
        "try:\n",
        "    import urlparse\n",
        "    from urllib import urlencode\n",
        "except: # For Python 3\n",
        "    import urllib.parse as urlparse\n",
        "    from urllib.parse import urlencode\n",
        "\n",
        "url = \"https://colab.research.google.com/github/ceos-seo/odc-colab/blob/master/notebooks/Colab_Cloud_Statistics_L8.ipynb\"\n",
        "params = {'lat_long':'-4.025,39.625'}\n",
        "url_parts = list(urlparse.urlparse(url))\n",
        "print(url_parts)\n",
        "query = dict(urlparse.parse_qsl(url_parts[4]))\n",
        "query.update(params)\n",
        "print(query)\n",
        "\n",
        "url_parts[4] = urlencode(query)\n",
        "print(urlparse.urlunparse(url_parts))\n"
      ],
      "execution_count": 17,
      "outputs": [
        {
          "output_type": "stream",
          "text": [
            "['https', 'colab.research.google.com', '/github/ceos-seo/odc-colab/blob/master/notebooks/Colab_Cloud_Statistics_L8.ipynb', '', '', '']\n",
            "{'lat_long': '-4.025,39.625'}\n",
            "https://colab.research.google.com/github/ceos-seo/odc-colab/blob/master/notebooks/Colab_Cloud_Statistics_L8.ipynb?lat_long=-4.025%2C39.625\n"
          ],
          "name": "stdout"
        }
      ]
    },
    {
      "cell_type": "code",
      "metadata": {
        "id": "I2kGAWFlrD9Y",
        "colab": {
          "base_uri": "https://localhost:8080/",
          "height": 17
        },
        "outputId": "29ae4442-a9eb-4c73-ded3-5ccd5b3f4081"
      },
      "source": [
        "%%javascript\n",
        "function getQueryStringValue (key)\n",
        "{  \n",
        "    return unescape(window.location.search.replace(new RegExp(\"^(?:.*[&\\\\?]\" + escape(key).replace(/[\\.\\+\\*]/g, \"\\\\$&\") + \"(?:\\\\=([^&]*))?)?.*$\", \"i\"), \"$1\"));\n",
        "}\n",
        "IPython.notebook.kernel.execute(\"Var1='\".concat(getQueryStringValue(\"Variable1\")).concat(\"'\"));\n",
        "IPython.notebook.kernel.execute(\"Var2='\".concat(getQueryStringValue(\"Variable2\")).concat(\"'\")); \n"
      ],
      "execution_count": 18,
      "outputs": [
        {
          "output_type": "display_data",
          "data": {
            "application/javascript": [
              "function getQueryStringValue (key)\n",
              "{  \n",
              "    return unescape(window.location.search.replace(new RegExp(\"^(?:.*[&\\\\?]\" + escape(key).replace(/[\\.\\+\\*]/g, \"\\\\$&\") + \"(?:\\\\=([^&]*))?)?.*$\", \"i\"), \"$1\"));\n",
              "}\n",
              "IPython.notebook.kernel.execute(\"Var1='\".concat(getQueryStringValue(\"Variable1\")).concat(\"'\"));\n",
              "IPython.notebook.kernel.execute(\"Var2='\".concat(getQueryStringValue(\"Variable2\")).concat(\"'\")); "
            ],
            "text/plain": [
              "<IPython.core.display.Javascript object>"
            ]
          },
          "metadata": {
            "tags": []
          }
        }
      ]
    },
    {
      "cell_type": "code",
      "metadata": {
        "colab": {
          "base_uri": "https://localhost:8080/",
          "height": 164
        },
        "id": "OjPGvqNSVyAx",
        "outputId": "853a7786-da42-44fc-ddc2-d0a265eae638"
      },
      "source": [
        "print(Var1)\n"
      ],
      "execution_count": 19,
      "outputs": [
        {
          "output_type": "error",
          "ename": "NameError",
          "evalue": "ignored",
          "traceback": [
            "\u001b[0;31m---------------------------------------------------------------------------\u001b[0m",
            "\u001b[0;31mNameError\u001b[0m                                 Traceback (most recent call last)",
            "\u001b[0;32m<ipython-input-19-b4eeb1fff8dc>\u001b[0m in \u001b[0;36m<module>\u001b[0;34m()\u001b[0m\n\u001b[0;32m----> 1\u001b[0;31m \u001b[0mprint\u001b[0m\u001b[0;34m(\u001b[0m\u001b[0mVar1\u001b[0m\u001b[0;34m)\u001b[0m\u001b[0;34m\u001b[0m\u001b[0;34m\u001b[0m\u001b[0m\n\u001b[0m",
            "\u001b[0;31mNameError\u001b[0m: name 'Var1' is not defined"
          ]
        }
      ]
    },
    {
      "cell_type": "code",
      "metadata": {
        "id": "YUMF3un-WSMA"
      },
      "source": [
        ""
      ],
      "execution_count": null,
      "outputs": []
    }
  ]
}